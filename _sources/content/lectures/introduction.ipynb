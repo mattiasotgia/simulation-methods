{
 "cells": [
  {
   "cell_type": "markdown",
   "id": "2b8c9866-840b-45a2-b40d-33acbfc72422",
   "metadata": {},
   "source": [
    "# Introduzione\n",
    "\n",
    "## Metodi di generazione Monte Carlo (MC)\n",
    "\n",
    "È un metodo utilizzato in un sacco di branche della fisica, dalla fisica delle particelle alla fisica della materia, è uno strumento che nasce negli anni '40, ed ha una continua evoluzione. \n",
    "\n",
    ":::{margin}\n",
    "Le origini del Metodo di Monte Carlo risalgono alla metà degli anni 40 nell’ambito del Progetto Manhattan.\n",
    "I formalizzatori del metodo sono Enrico Fermi, John von Neumann e Stanislaw Marcin Ulam, il nome Monte\n",
    "Carlo fu inventato in seguito da Nicholas Constantine Metropolis in riferimento alla nota tradizione nei giochi\n",
    "d’azzardo dello stato omonimo nel sud della Francia (e in particolare alla roulette in cui i numeri sono estratti a\n",
    "caso).\n",
    "\n",
    "Pare che l’idea venne a Ulam mentre era convalescente da una malattia. Per passare il tempo giocava a un\n",
    "solitario con le carte e si chiese quale fosse la probabilità di completarlo correttamente. Le regole del solitario\n",
    "rendevano difficile il calcolo di questa probabilità. Tuttavia pensò che si sarebbero potute simulare con un\n",
    "computer molte disposizioni casuali di un mazzo di carte e controllare in quanti di questi casi si riusciva a\n",
    "completare il solitario. In questo modo si poteva calcolare la probabilità di vincere al solitario in modo empirico.\n",
    "Ulam ne parlò con Von Neumann il quale comprese il potenziale di questa intuizione e svilupp`o il primo\n",
    "algoritmo che permetteva di generare numeri casuali con un computer.\n",
    ":::\n",
    "\n",
    "In fisica della materia, sopratutto in fisica teorica della materia, si parla di \n",
    " - Calcolare proprietà di equilibrio di sistemi a molte particelle (N-body). In particolare eccetto il caso di interazioni armoniche, è praticamente impossibile ottenere una soluzione analitica, e quindi è obbligatorio utilizzare strumenti numerici e metodi numerici.\n",
    " - Processi stocastici (rndm walk, crescita di cristalli).\n",
    "\n",
    "```{figure} ../../images/ATLAS-ttH-eventdisplay.png\n",
    "---\n",
    "figclass: margin\n",
    "---\n",
    "ATLAS Event display ($\\mathrm{t\\bar t H}$ event)\n",
    "```\n",
    "\n",
    "In fisica delle particelle (nuclear and sub-nuclear physics)\n",
    " - Simulation of the initial process (of which the out state is known by experimental data)\n",
    " - Simulazione dell'interazione con un rivelatore\n",
    " - Produzione di eventi identici a quelli veri, per creare maggiore statistica, e/o per progettare/ottiimizare/controllare il rivelatore.\n",
    "\n",
    "## Numeri casuali\n",
    "\n",
    "Centrale negli algoritmi di MC è la necessità di poter **generare** un numero casuale. In generale questo generatore deve avere alcune proprietà, alcune convensionali altre necessarie\n",
    " 1. Deve generare in $[0, 1)$.\n",
    " 2. Deve generare valori che non rispettano nessun pattern apparente ($x_n$ è scorrelato a $x_{n-1}$).\n",
    " 3. Deve avere periodo di ripetizione estremamente lungo\n",
    " 5. Deve essere sufficentemente veloce (sopratutto per utilizzo in particle physics, LHC)\n",
    "\n",
    "Dalla generazione di numeri casuali, ci interessa allora poter generare distribuzioni continue, e già abbiamo visto alcuni metodi\n",
    " - Inversione\n",
    " - Reiezione (senza campionamento)\n",
    " - Reiezione (con campionamento)\n",
    " - Importance sampling\n",
    "\n",
    "Esiste ancora un modo di generare, detto campionamento semplice.\n",
    "\n",
    ":::{admonition} Campionamento semplice\n",
    ":class: tip\n",
    "\n",
    ":::\n",
    "\n"
   ]
  },
  {
   "cell_type": "code",
   "execution_count": null,
   "id": "e3407607-2ef2-4fd1-b5cc-6dfd6fa37d04",
   "metadata": {},
   "outputs": [],
   "source": []
  }
 ],
 "metadata": {
  "kernelspec": {
   "display_name": "Python 3 (ipykernel)",
   "language": "python",
   "name": "python3"
  },
  "language_info": {
   "codemirror_mode": {
    "name": "ipython",
    "version": 3
   },
   "file_extension": ".py",
   "mimetype": "text/x-python",
   "name": "python",
   "nbconvert_exporter": "python",
   "pygments_lexer": "ipython3",
   "version": "3.9.12"
  }
 },
 "nbformat": 4,
 "nbformat_minor": 5
}
