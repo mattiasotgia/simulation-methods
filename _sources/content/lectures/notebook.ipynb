{
 "cells": [
  {
   "cell_type": "markdown",
   "id": "2b8c9866-840b-45a2-b40d-33acbfc72422",
   "metadata": {},
   "source": [
    "# Prima lezione"
   ]
  },
  {
   "cell_type": "code",
   "execution_count": null,
   "id": "e3407607-2ef2-4fd1-b5cc-6dfd6fa37d04",
   "metadata": {},
   "outputs": [],
   "source": []
  }
 ],
 "metadata": {
  "kernelspec": {
   "display_name": "Python 3 (ipykernel)",
   "language": "python",
   "name": "python3"
  },
  "language_info": {
   "codemirror_mode": {
    "name": "ipython",
    "version": 3
   },
   "file_extension": ".py",
   "mimetype": "text/x-python",
   "name": "python",
   "nbconvert_exporter": "python",
   "pygments_lexer": "ipython3",
   "version": "3.9.12"
  }
 },
 "nbformat": 4,
 "nbformat_minor": 5
}
